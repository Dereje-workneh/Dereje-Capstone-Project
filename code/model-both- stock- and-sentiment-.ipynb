{
 "cells": [
  {
   "cell_type": "markdown",
   "metadata": {},
   "source": [
    "This notebook is used for checking how well the six different classifier algorithms would have predicted next day's stock price movemements in the apple stock.\n",
    "\n",
    "The follwoing is done for each stock/cashtag separately. Then the outcome shown as six graphs, one for each classifier, is shown and saved as an image file to be presented in an article, or alike.\n",
    "\n",
    "First, a dataframe containing the combined stock and tweet data is downloaded"
   ]
  },
  {
   "cell_type": "code",
   "execution_count": null,
   "metadata": {},
   "outputs": [],
   "source": []
  },
  {
   "cell_type": "code",
   "execution_count": 1,
   "metadata": {},
   "outputs": [],
   "source": [
    "import GetOldTweets3 as got\n",
    "import pandas as pd\n",
    "import tweepy\n",
    "import csv\n",
    "import random\n",
    "from textblob import TextBlob\n",
    "import numpy as np\n",
    "import datetime\n",
    "import time\n",
    "import GetOldTweets3 as got\n",
    "import matplotlib as mpl\n",
    "import matplotlib.pyplot as plt\n",
    "import seaborn as sns\n",
    "import os\n",
    "from sklearn.linear_model import LogisticRegression\n",
    "from sklearn.neighbors import KNeighborsClassifier\n",
    "from sklearn.model_selection import cross_val_score\n",
    "from sklearn.svm import SVC\n",
    "from sklearn.naive_bayes import MultinomialNB\n",
    "from sklearn.preprocessing import MinMaxScaler\n",
    "from sklearn import tree\n",
    "from sklearn.ensemble import RandomForestClassifier\n",
    "import pylab\n",
    "from pylab import rcParams\n",
    "from sklearn.model_selection import train_test_split\n",
    "\n",
    "%matplotlib inline\n"
   ]
  },
  {
   "cell_type": "code",
   "execution_count": 2,
   "metadata": {
    "scrolled": true
   },
   "outputs": [
    {
     "data": {
      "text/html": [
       "<div>\n",
       "<style scoped>\n",
       "    .dataframe tbody tr th:only-of-type {\n",
       "        vertical-align: middle;\n",
       "    }\n",
       "\n",
       "    .dataframe tbody tr th {\n",
       "        vertical-align: top;\n",
       "    }\n",
       "\n",
       "    .dataframe thead th {\n",
       "        text-align: right;\n",
       "    }\n",
       "</style>\n",
       "<table border=\"1\" class=\"dataframe\">\n",
       "  <thead>\n",
       "    <tr style=\"text-align: right;\">\n",
       "      <th></th>\n",
       "      <th>Volume_stock</th>\n",
       "      <th>Adj_Close_stock</th>\n",
       "      <th>apple_price</th>\n",
       "      <th>Pct_change_price</th>\n",
       "      <th>Pct_change_price_scaled</th>\n",
       "      <th>Unnamed: 0</th>\n",
       "      <th>Id</th>\n",
       "      <th>neg</th>\n",
       "      <th>neu</th>\n",
       "      <th>pos</th>\n",
       "      <th>compound</th>\n",
       "      <th>Compound_multiplied</th>\n",
       "      <th>Compound_multiplied_scaled</th>\n",
       "      <th>Predicted_change_price</th>\n",
       "      <th>Buy/Sell</th>\n",
       "    </tr>\n",
       "  </thead>\n",
       "  <tbody>\n",
       "    <tr>\n",
       "      <th>0</th>\n",
       "      <td>99.945885</td>\n",
       "      <td>5.320460e+07</td>\n",
       "      <td>-9.398248e-08</td>\n",
       "      <td>1.844438</td>\n",
       "      <td>0.891519</td>\n",
       "      <td>14.5</td>\n",
       "      <td>5.511658e+17</td>\n",
       "      <td>0.09700</td>\n",
       "      <td>0.75550</td>\n",
       "      <td>0.14750</td>\n",
       "      <td>0.103300</td>\n",
       "      <td>1.206300</td>\n",
       "      <td>-0.434766</td>\n",
       "      <td>0.000000</td>\n",
       "      <td>1.0</td>\n",
       "    </tr>\n",
       "    <tr>\n",
       "      <th>1</th>\n",
       "      <td>99.007337</td>\n",
       "      <td>5.689823e+07</td>\n",
       "      <td>-2.493228e-07</td>\n",
       "      <td>1.495253</td>\n",
       "      <td>0.531533</td>\n",
       "      <td>25.5</td>\n",
       "      <td>5.515279e+17</td>\n",
       "      <td>0.06025</td>\n",
       "      <td>0.78675</td>\n",
       "      <td>0.15275</td>\n",
       "      <td>0.219875</td>\n",
       "      <td>4.999025</td>\n",
       "      <td>-0.430909</td>\n",
       "      <td>2.890277</td>\n",
       "      <td>1.0</td>\n",
       "    </tr>\n",
       "    <tr>\n",
       "      <th>2</th>\n",
       "      <td>98.068789</td>\n",
       "      <td>6.059187e+07</td>\n",
       "      <td>-4.046631e-07</td>\n",
       "      <td>1.146069</td>\n",
       "      <td>0.171547</td>\n",
       "      <td>35.0</td>\n",
       "      <td>5.518905e+17</td>\n",
       "      <td>0.05750</td>\n",
       "      <td>0.72150</td>\n",
       "      <td>0.22100</td>\n",
       "      <td>0.314617</td>\n",
       "      <td>10.967800</td>\n",
       "      <td>-0.424840</td>\n",
       "      <td>0.265303</td>\n",
       "      <td>1.0</td>\n",
       "    </tr>\n",
       "    <tr>\n",
       "      <th>3</th>\n",
       "      <td>97.130241</td>\n",
       "      <td>6.428550e+07</td>\n",
       "      <td>-5.600034e-07</td>\n",
       "      <td>0.796885</td>\n",
       "      <td>-0.188440</td>\n",
       "      <td>44.0</td>\n",
       "      <td>5.522531e+17</td>\n",
       "      <td>0.08850</td>\n",
       "      <td>0.66500</td>\n",
       "      <td>0.24625</td>\n",
       "      <td>0.180625</td>\n",
       "      <td>8.834750</td>\n",
       "      <td>-0.427009</td>\n",
       "      <td>0.909121</td>\n",
       "      <td>1.0</td>\n",
       "    </tr>\n",
       "    <tr>\n",
       "      <th>4</th>\n",
       "      <td>97.139420</td>\n",
       "      <td>6.579710e+07</td>\n",
       "      <td>-1.352642e-06</td>\n",
       "      <td>1.557875</td>\n",
       "      <td>0.596092</td>\n",
       "      <td>53.6</td>\n",
       "      <td>5.526150e+17</td>\n",
       "      <td>0.00000</td>\n",
       "      <td>0.71660</td>\n",
       "      <td>0.28340</td>\n",
       "      <td>0.510900</td>\n",
       "      <td>27.407020</td>\n",
       "      <td>-0.408123</td>\n",
       "      <td>1.552939</td>\n",
       "      <td>1.0</td>\n",
       "    </tr>\n",
       "  </tbody>\n",
       "</table>\n",
       "</div>"
      ],
      "text/plain": [
       "   Volume_stock  Adj_Close_stock   apple_price  Pct_change_price  \\\n",
       "0     99.945885     5.320460e+07 -9.398248e-08          1.844438   \n",
       "1     99.007337     5.689823e+07 -2.493228e-07          1.495253   \n",
       "2     98.068789     6.059187e+07 -4.046631e-07          1.146069   \n",
       "3     97.130241     6.428550e+07 -5.600034e-07          0.796885   \n",
       "4     97.139420     6.579710e+07 -1.352642e-06          1.557875   \n",
       "\n",
       "   Pct_change_price_scaled  Unnamed: 0            Id      neg      neu  \\\n",
       "0                 0.891519        14.5  5.511658e+17  0.09700  0.75550   \n",
       "1                 0.531533        25.5  5.515279e+17  0.06025  0.78675   \n",
       "2                 0.171547        35.0  5.518905e+17  0.05750  0.72150   \n",
       "3                -0.188440        44.0  5.522531e+17  0.08850  0.66500   \n",
       "4                 0.596092        53.6  5.526150e+17  0.00000  0.71660   \n",
       "\n",
       "       pos  compound  Compound_multiplied  Compound_multiplied_scaled  \\\n",
       "0  0.14750  0.103300             1.206300                   -0.434766   \n",
       "1  0.15275  0.219875             4.999025                   -0.430909   \n",
       "2  0.22100  0.314617            10.967800                   -0.424840   \n",
       "3  0.24625  0.180625             8.834750                   -0.427009   \n",
       "4  0.28340  0.510900            27.407020                   -0.408123   \n",
       "\n",
       "   Predicted_change_price  Buy/Sell  \n",
       "0                0.000000       1.0  \n",
       "1                2.890277       1.0  \n",
       "2                0.265303       1.0  \n",
       "3                0.909121       1.0  \n",
       "4                1.552939       1.0  "
      ]
     },
     "execution_count": 2,
     "metadata": {},
     "output_type": "execute_result"
    }
   ],
   "source": [
    "# Load the data\n",
    "df_model=pd.read_csv('./df_3.csv')\n",
    "df_model.head()"
   ]
  },
  {
   "cell_type": "code",
   "execution_count": 3,
   "metadata": {},
   "outputs": [
    {
     "data": {
      "text/plain": [
       "(1934, 15)"
      ]
     },
     "execution_count": 3,
     "metadata": {},
     "output_type": "execute_result"
    }
   ],
   "source": [
    "df_model.shape"
   ]
  },
  {
   "cell_type": "code",
   "execution_count": 4,
   "metadata": {},
   "outputs": [
    {
     "data": {
      "text/plain": [
       "Index(['Volume_stock', 'Adj_Close_stock', 'apple_price', 'Pct_change_price',\n",
       "       'Pct_change_price_scaled', 'Unnamed: 0', 'Id', 'neg', 'neu', 'pos',\n",
       "       'compound', 'Compound_multiplied', 'Compound_multiplied_scaled',\n",
       "       'Predicted_change_price', 'Buy/Sell'],\n",
       "      dtype='object')"
      ]
     },
     "execution_count": 4,
     "metadata": {},
     "output_type": "execute_result"
    }
   ],
   "source": [
    "df_model.columns"
   ]
  },
  {
   "cell_type": "markdown",
   "metadata": {},
   "source": [
    "Replace zeros in the Buy/Sell- column with minus ones (-1)\n",
    "The minus ones make the calculations of gain or loss easier (and more logical?), than trying to use zeros from the original version."
   ]
  },
  {
   "cell_type": "code",
   "execution_count": 5,
   "metadata": {},
   "outputs": [],
   "source": [
    "df_model['Buy/Sell'] = df_model['Buy/Sell'].replace(0, -1)"
   ]
  },
  {
   "cell_type": "code",
   "execution_count": 12,
   "metadata": {},
   "outputs": [
    {
     "data": {
      "text/html": [
       "<div>\n",
       "<style scoped>\n",
       "    .dataframe tbody tr th:only-of-type {\n",
       "        vertical-align: middle;\n",
       "    }\n",
       "\n",
       "    .dataframe tbody tr th {\n",
       "        vertical-align: top;\n",
       "    }\n",
       "\n",
       "    .dataframe thead th {\n",
       "        text-align: right;\n",
       "    }\n",
       "</style>\n",
       "<table border=\"1\" class=\"dataframe\">\n",
       "  <thead>\n",
       "    <tr style=\"text-align: right;\">\n",
       "      <th></th>\n",
       "      <th>Volume_stock</th>\n",
       "      <th>Adj_Close_stock</th>\n",
       "      <th>apple_price</th>\n",
       "      <th>Pct_change_price</th>\n",
       "      <th>Pct_change_price_scaled</th>\n",
       "      <th>Unnamed: 0</th>\n",
       "      <th>Id</th>\n",
       "      <th>neg</th>\n",
       "      <th>neu</th>\n",
       "      <th>pos</th>\n",
       "      <th>compound</th>\n",
       "      <th>Compound_multiplied</th>\n",
       "      <th>Compound_multiplied_scaled</th>\n",
       "      <th>Predicted_change_price</th>\n",
       "      <th>Buy/Sell</th>\n",
       "    </tr>\n",
       "  </thead>\n",
       "  <tbody>\n",
       "  </tbody>\n",
       "</table>\n",
       "</div>"
      ],
      "text/plain": [
       "Empty DataFrame\n",
       "Columns: [Volume_stock, Adj_Close_stock, apple_price, Pct_change_price, Pct_change_price_scaled, Unnamed: 0, Id, neg, neu, pos, compound, Compound_multiplied, Compound_multiplied_scaled, Predicted_change_price, Buy/Sell]\n",
       "Index: []"
      ]
     },
     "execution_count": 12,
     "metadata": {},
     "output_type": "execute_result"
    }
   ],
   "source": [
    "# Checking for NaN in the last row...\n",
    "nan_rows = df_model[df_model['Predicted_change_price'].isnull()]\n",
    "nan_rows"
   ]
  },
  {
   "cell_type": "markdown",
   "metadata": {},
   "source": [
    "..then removing the last row, since its 'Predicted_change' is NaN\n",
    "In other words, since this is the last row/day, there is no data from a following day to use for a prediction."
   ]
  },
  {
   "cell_type": "code",
   "execution_count": 13,
   "metadata": {},
   "outputs": [],
   "source": [
    "# Remove the last row for each cashtag, since its 'Predicted_change_price' is NaN\n",
    "df_model = df_model[np.isfinite(df_model['Predicted_change_price'])]\n",
    "df_model = df_model[np.isfinite(df_model['Buy/Sell'])]"
   ]
  },
  {
   "cell_type": "code",
   "execution_count": 14,
   "metadata": {},
   "outputs": [
    {
     "data": {
      "text/html": [
       "<div>\n",
       "<style scoped>\n",
       "    .dataframe tbody tr th:only-of-type {\n",
       "        vertical-align: middle;\n",
       "    }\n",
       "\n",
       "    .dataframe tbody tr th {\n",
       "        vertical-align: top;\n",
       "    }\n",
       "\n",
       "    .dataframe thead th {\n",
       "        text-align: right;\n",
       "    }\n",
       "</style>\n",
       "<table border=\"1\" class=\"dataframe\">\n",
       "  <thead>\n",
       "    <tr style=\"text-align: right;\">\n",
       "      <th></th>\n",
       "      <th>Volume_stock</th>\n",
       "      <th>Adj_Close_stock</th>\n",
       "      <th>apple_price</th>\n",
       "      <th>Pct_change_price</th>\n",
       "      <th>Pct_change_price_scaled</th>\n",
       "      <th>Unnamed: 0</th>\n",
       "      <th>Id</th>\n",
       "      <th>neg</th>\n",
       "      <th>neu</th>\n",
       "      <th>pos</th>\n",
       "      <th>compound</th>\n",
       "      <th>Compound_multiplied</th>\n",
       "      <th>Compound_multiplied_scaled</th>\n",
       "      <th>Predicted_change_price</th>\n",
       "      <th>Buy/Sell</th>\n",
       "    </tr>\n",
       "  </thead>\n",
       "  <tbody>\n",
       "    <tr>\n",
       "      <th>0</th>\n",
       "      <td>99.945885</td>\n",
       "      <td>5.320460e+07</td>\n",
       "      <td>-9.398248e-08</td>\n",
       "      <td>1.844438</td>\n",
       "      <td>0.891519</td>\n",
       "      <td>14.5</td>\n",
       "      <td>5.511658e+17</td>\n",
       "      <td>0.09700</td>\n",
       "      <td>0.75550</td>\n",
       "      <td>0.14750</td>\n",
       "      <td>0.103300</td>\n",
       "      <td>1.206300</td>\n",
       "      <td>-0.434766</td>\n",
       "      <td>0.000000</td>\n",
       "      <td>1.0</td>\n",
       "    </tr>\n",
       "    <tr>\n",
       "      <th>1</th>\n",
       "      <td>99.007337</td>\n",
       "      <td>5.689823e+07</td>\n",
       "      <td>-2.493228e-07</td>\n",
       "      <td>1.495253</td>\n",
       "      <td>0.531533</td>\n",
       "      <td>25.5</td>\n",
       "      <td>5.515279e+17</td>\n",
       "      <td>0.06025</td>\n",
       "      <td>0.78675</td>\n",
       "      <td>0.15275</td>\n",
       "      <td>0.219875</td>\n",
       "      <td>4.999025</td>\n",
       "      <td>-0.430909</td>\n",
       "      <td>2.890277</td>\n",
       "      <td>1.0</td>\n",
       "    </tr>\n",
       "    <tr>\n",
       "      <th>2</th>\n",
       "      <td>98.068789</td>\n",
       "      <td>6.059187e+07</td>\n",
       "      <td>-4.046631e-07</td>\n",
       "      <td>1.146069</td>\n",
       "      <td>0.171547</td>\n",
       "      <td>35.0</td>\n",
       "      <td>5.518905e+17</td>\n",
       "      <td>0.05750</td>\n",
       "      <td>0.72150</td>\n",
       "      <td>0.22100</td>\n",
       "      <td>0.314617</td>\n",
       "      <td>10.967800</td>\n",
       "      <td>-0.424840</td>\n",
       "      <td>0.265303</td>\n",
       "      <td>1.0</td>\n",
       "    </tr>\n",
       "    <tr>\n",
       "      <th>3</th>\n",
       "      <td>97.130241</td>\n",
       "      <td>6.428550e+07</td>\n",
       "      <td>-5.600034e-07</td>\n",
       "      <td>0.796885</td>\n",
       "      <td>-0.188440</td>\n",
       "      <td>44.0</td>\n",
       "      <td>5.522531e+17</td>\n",
       "      <td>0.08850</td>\n",
       "      <td>0.66500</td>\n",
       "      <td>0.24625</td>\n",
       "      <td>0.180625</td>\n",
       "      <td>8.834750</td>\n",
       "      <td>-0.427009</td>\n",
       "      <td>0.909121</td>\n",
       "      <td>1.0</td>\n",
       "    </tr>\n",
       "    <tr>\n",
       "      <th>4</th>\n",
       "      <td>97.139420</td>\n",
       "      <td>6.579710e+07</td>\n",
       "      <td>-1.352642e-06</td>\n",
       "      <td>1.557875</td>\n",
       "      <td>0.596092</td>\n",
       "      <td>53.6</td>\n",
       "      <td>5.526150e+17</td>\n",
       "      <td>0.00000</td>\n",
       "      <td>0.71660</td>\n",
       "      <td>0.28340</td>\n",
       "      <td>0.510900</td>\n",
       "      <td>27.407020</td>\n",
       "      <td>-0.408123</td>\n",
       "      <td>1.552939</td>\n",
       "      <td>1.0</td>\n",
       "    </tr>\n",
       "  </tbody>\n",
       "</table>\n",
       "</div>"
      ],
      "text/plain": [
       "   Volume_stock  Adj_Close_stock   apple_price  Pct_change_price  \\\n",
       "0     99.945885     5.320460e+07 -9.398248e-08          1.844438   \n",
       "1     99.007337     5.689823e+07 -2.493228e-07          1.495253   \n",
       "2     98.068789     6.059187e+07 -4.046631e-07          1.146069   \n",
       "3     97.130241     6.428550e+07 -5.600034e-07          0.796885   \n",
       "4     97.139420     6.579710e+07 -1.352642e-06          1.557875   \n",
       "\n",
       "   Pct_change_price_scaled  Unnamed: 0            Id      neg      neu  \\\n",
       "0                 0.891519        14.5  5.511658e+17  0.09700  0.75550   \n",
       "1                 0.531533        25.5  5.515279e+17  0.06025  0.78675   \n",
       "2                 0.171547        35.0  5.518905e+17  0.05750  0.72150   \n",
       "3                -0.188440        44.0  5.522531e+17  0.08850  0.66500   \n",
       "4                 0.596092        53.6  5.526150e+17  0.00000  0.71660   \n",
       "\n",
       "       pos  compound  Compound_multiplied  Compound_multiplied_scaled  \\\n",
       "0  0.14750  0.103300             1.206300                   -0.434766   \n",
       "1  0.15275  0.219875             4.999025                   -0.430909   \n",
       "2  0.22100  0.314617            10.967800                   -0.424840   \n",
       "3  0.24625  0.180625             8.834750                   -0.427009   \n",
       "4  0.28340  0.510900            27.407020                   -0.408123   \n",
       "\n",
       "   Predicted_change_price  Buy/Sell  \n",
       "0                0.000000       1.0  \n",
       "1                2.890277       1.0  \n",
       "2                0.265303       1.0  \n",
       "3                0.909121       1.0  \n",
       "4                1.552939       1.0  "
      ]
     },
     "execution_count": 14,
     "metadata": {},
     "output_type": "execute_result"
    }
   ],
   "source": [
    "df_model.head()"
   ]
  },
  {
   "cell_type": "code",
   "execution_count": 15,
   "metadata": {},
   "outputs": [
    {
     "data": {
      "text/plain": [
       "Volume_stock                  0\n",
       "Adj_Close_stock               0\n",
       "apple_price                   0\n",
       "Pct_change_price              0\n",
       "Pct_change_price_scaled       0\n",
       "Unnamed: 0                    0\n",
       "Id                            0\n",
       "neg                           0\n",
       "neu                           0\n",
       "pos                           0\n",
       "compound                      0\n",
       "Compound_multiplied           0\n",
       "Compound_multiplied_scaled    0\n",
       "Predicted_change_price        0\n",
       "Buy/Sell                      0\n",
       "dtype: int64"
      ]
     },
     "execution_count": 15,
     "metadata": {},
     "output_type": "execute_result"
    }
   ],
   "source": [
    "df_model.isnull().sum()"
   ]
  },
  {
   "cell_type": "code",
   "execution_count": 16,
   "metadata": {
    "scrolled": true
   },
   "outputs": [
    {
     "data": {
      "text/html": [
       "<div>\n",
       "<style scoped>\n",
       "    .dataframe tbody tr th:only-of-type {\n",
       "        vertical-align: middle;\n",
       "    }\n",
       "\n",
       "    .dataframe tbody tr th {\n",
       "        vertical-align: top;\n",
       "    }\n",
       "\n",
       "    .dataframe thead th {\n",
       "        text-align: right;\n",
       "    }\n",
       "</style>\n",
       "<table border=\"1\" class=\"dataframe\">\n",
       "  <thead>\n",
       "    <tr style=\"text-align: right;\">\n",
       "      <th></th>\n",
       "      <th>Volume_stock</th>\n",
       "      <th>Adj_Close_stock</th>\n",
       "      <th>apple_price</th>\n",
       "      <th>Pct_change_price</th>\n",
       "      <th>Pct_change_price_scaled</th>\n",
       "      <th>Unnamed: 0</th>\n",
       "      <th>Id</th>\n",
       "      <th>neg</th>\n",
       "      <th>neu</th>\n",
       "      <th>pos</th>\n",
       "      <th>compound</th>\n",
       "      <th>Compound_multiplied</th>\n",
       "      <th>Compound_multiplied_scaled</th>\n",
       "      <th>Predicted_change_price</th>\n",
       "      <th>Buy/Sell</th>\n",
       "    </tr>\n",
       "  </thead>\n",
       "  <tbody>\n",
       "    <tr>\n",
       "      <th>count</th>\n",
       "      <td>1933.000000</td>\n",
       "      <td>1.933000e+03</td>\n",
       "      <td>1933.000000</td>\n",
       "      <td>1933.000000</td>\n",
       "      <td>1933.000000</td>\n",
       "      <td>1933.000000</td>\n",
       "      <td>1.933000e+03</td>\n",
       "      <td>1933.000000</td>\n",
       "      <td>1933.000000</td>\n",
       "      <td>1933.000000</td>\n",
       "      <td>1933.000000</td>\n",
       "      <td>1933.000000</td>\n",
       "      <td>1933.000000</td>\n",
       "      <td>1933.000000</td>\n",
       "      <td>1933.0</td>\n",
       "    </tr>\n",
       "    <tr>\n",
       "      <th>mean</th>\n",
       "      <td>158.407605</td>\n",
       "      <td>3.636475e+07</td>\n",
       "      <td>-0.000005</td>\n",
       "      <td>0.981596</td>\n",
       "      <td>0.001986</td>\n",
       "      <td>1744.930242</td>\n",
       "      <td>9.074554e+17</td>\n",
       "      <td>0.061245</td>\n",
       "      <td>0.781127</td>\n",
       "      <td>0.157623</td>\n",
       "      <td>0.243125</td>\n",
       "      <td>416.840785</td>\n",
       "      <td>-0.012118</td>\n",
       "      <td>0.980109</td>\n",
       "      <td>1.0</td>\n",
       "    </tr>\n",
       "    <tr>\n",
       "      <th>std</th>\n",
       "      <td>56.969634</td>\n",
       "      <td>1.757432e+07</td>\n",
       "      <td>0.000004</td>\n",
       "      <td>0.924905</td>\n",
       "      <td>0.953516</td>\n",
       "      <td>1064.112882</td>\n",
       "      <td>2.042573e+17</td>\n",
       "      <td>0.055759</td>\n",
       "      <td>0.060278</td>\n",
       "      <td>0.068318</td>\n",
       "      <td>0.263444</td>\n",
       "      <td>585.322653</td>\n",
       "      <td>0.595199</td>\n",
       "      <td>0.921360</td>\n",
       "      <td>0.0</td>\n",
       "    </tr>\n",
       "    <tr>\n",
       "      <th>min</th>\n",
       "      <td>84.962914</td>\n",
       "      <td>1.136200e+07</td>\n",
       "      <td>-0.000027</td>\n",
       "      <td>0.000000</td>\n",
       "      <td>-1.009975</td>\n",
       "      <td>4.500000</td>\n",
       "      <td>5.511658e+17</td>\n",
       "      <td>0.000000</td>\n",
       "      <td>0.512333</td>\n",
       "      <td>0.000000</td>\n",
       "      <td>-0.822500</td>\n",
       "      <td>-2164.820000</td>\n",
       "      <td>-2.637341</td>\n",
       "      <td>0.000000</td>\n",
       "      <td>1.0</td>\n",
       "    </tr>\n",
       "    <tr>\n",
       "      <th>25%</th>\n",
       "      <td>109.635303</td>\n",
       "      <td>2.416750e+07</td>\n",
       "      <td>-0.000007</td>\n",
       "      <td>0.407405</td>\n",
       "      <td>-0.589967</td>\n",
       "      <td>814.285714</td>\n",
       "      <td>7.312727e+17</td>\n",
       "      <td>0.019000</td>\n",
       "      <td>0.746667</td>\n",
       "      <td>0.111500</td>\n",
       "      <td>0.089883</td>\n",
       "      <td>52.493467</td>\n",
       "      <td>-0.382613</td>\n",
       "      <td>0.407571</td>\n",
       "      <td>1.0</td>\n",
       "    </tr>\n",
       "    <tr>\n",
       "      <th>50%</th>\n",
       "      <td>150.111603</td>\n",
       "      <td>3.204650e+07</td>\n",
       "      <td>-0.000003</td>\n",
       "      <td>0.765279</td>\n",
       "      <td>-0.221023</td>\n",
       "      <td>1685.333333</td>\n",
       "      <td>9.084803e+17</td>\n",
       "      <td>0.050800</td>\n",
       "      <td>0.787500</td>\n",
       "      <td>0.154400</td>\n",
       "      <td>0.268360</td>\n",
       "      <td>302.122067</td>\n",
       "      <td>-0.128772</td>\n",
       "      <td>0.764804</td>\n",
       "      <td>1.0</td>\n",
       "    </tr>\n",
       "    <tr>\n",
       "      <th>75%</th>\n",
       "      <td>189.041946</td>\n",
       "      <td>4.398890e+07</td>\n",
       "      <td>-0.000002</td>\n",
       "      <td>1.252166</td>\n",
       "      <td>0.280926</td>\n",
       "      <td>2674.000000</td>\n",
       "      <td>1.083875e+18</td>\n",
       "      <td>0.090000</td>\n",
       "      <td>0.820500</td>\n",
       "      <td>0.199500</td>\n",
       "      <td>0.428100</td>\n",
       "      <td>734.953600</td>\n",
       "      <td>0.311363</td>\n",
       "      <td>1.251037</td>\n",
       "      <td>1.0</td>\n",
       "    </tr>\n",
       "    <tr>\n",
       "      <th>max</th>\n",
       "      <td>326.316681</td>\n",
       "      <td>1.622063e+08</td>\n",
       "      <td>0.000000</td>\n",
       "      <td>12.086960</td>\n",
       "      <td>11.450887</td>\n",
       "      <td>3656.000000</td>\n",
       "      <td>1.259633e+18</td>\n",
       "      <td>0.358000</td>\n",
       "      <td>0.957000</td>\n",
       "      <td>0.468333</td>\n",
       "      <td>0.921100</td>\n",
       "      <td>2689.419900</td>\n",
       "      <td>2.298808</td>\n",
       "      <td>12.086960</td>\n",
       "      <td>1.0</td>\n",
       "    </tr>\n",
       "  </tbody>\n",
       "</table>\n",
       "</div>"
      ],
      "text/plain": [
       "       Volume_stock  Adj_Close_stock  apple_price  Pct_change_price  \\\n",
       "count   1933.000000     1.933000e+03  1933.000000       1933.000000   \n",
       "mean     158.407605     3.636475e+07    -0.000005          0.981596   \n",
       "std       56.969634     1.757432e+07     0.000004          0.924905   \n",
       "min       84.962914     1.136200e+07    -0.000027          0.000000   \n",
       "25%      109.635303     2.416750e+07    -0.000007          0.407405   \n",
       "50%      150.111603     3.204650e+07    -0.000003          0.765279   \n",
       "75%      189.041946     4.398890e+07    -0.000002          1.252166   \n",
       "max      326.316681     1.622063e+08     0.000000         12.086960   \n",
       "\n",
       "       Pct_change_price_scaled   Unnamed: 0            Id          neg  \\\n",
       "count              1933.000000  1933.000000  1.933000e+03  1933.000000   \n",
       "mean                  0.001986  1744.930242  9.074554e+17     0.061245   \n",
       "std                   0.953516  1064.112882  2.042573e+17     0.055759   \n",
       "min                  -1.009975     4.500000  5.511658e+17     0.000000   \n",
       "25%                  -0.589967   814.285714  7.312727e+17     0.019000   \n",
       "50%                  -0.221023  1685.333333  9.084803e+17     0.050800   \n",
       "75%                   0.280926  2674.000000  1.083875e+18     0.090000   \n",
       "max                  11.450887  3656.000000  1.259633e+18     0.358000   \n",
       "\n",
       "               neu          pos     compound  Compound_multiplied  \\\n",
       "count  1933.000000  1933.000000  1933.000000          1933.000000   \n",
       "mean      0.781127     0.157623     0.243125           416.840785   \n",
       "std       0.060278     0.068318     0.263444           585.322653   \n",
       "min       0.512333     0.000000    -0.822500         -2164.820000   \n",
       "25%       0.746667     0.111500     0.089883            52.493467   \n",
       "50%       0.787500     0.154400     0.268360           302.122067   \n",
       "75%       0.820500     0.199500     0.428100           734.953600   \n",
       "max       0.957000     0.468333     0.921100          2689.419900   \n",
       "\n",
       "       Compound_multiplied_scaled  Predicted_change_price  Buy/Sell  \n",
       "count                 1933.000000             1933.000000    1933.0  \n",
       "mean                    -0.012118                0.980109       1.0  \n",
       "std                      0.595199                0.921360       0.0  \n",
       "min                     -2.637341                0.000000       1.0  \n",
       "25%                     -0.382613                0.407571       1.0  \n",
       "50%                     -0.128772                0.764804       1.0  \n",
       "75%                      0.311363                1.251037       1.0  \n",
       "max                      2.298808               12.086960       1.0  "
      ]
     },
     "execution_count": 16,
     "metadata": {},
     "output_type": "execute_result"
    }
   ],
   "source": [
    "df_model.describe()"
   ]
  },
  {
   "cell_type": "code",
   "execution_count": 17,
   "metadata": {},
   "outputs": [
    {
     "data": {
      "text/plain": [
       "(1933, 15)"
      ]
     },
     "execution_count": 17,
     "metadata": {},
     "output_type": "execute_result"
    }
   ],
   "source": [
    "df_model.shape"
   ]
  },
  {
   "cell_type": "code",
   "execution_count": 18,
   "metadata": {},
   "outputs": [
    {
     "data": {
      "text/plain": [
       "Index(['Volume_stock', 'Adj_Close_stock', 'apple_price', 'Pct_change_price',\n",
       "       'Pct_change_price_scaled', 'Unnamed: 0', 'Id', 'neg', 'neu', 'pos',\n",
       "       'compound', 'Compound_multiplied', 'Compound_multiplied_scaled',\n",
       "       'Predicted_change_price', 'Buy/Sell'],\n",
       "      dtype='object')"
      ]
     },
     "execution_count": 18,
     "metadata": {},
     "output_type": "execute_result"
    }
   ],
   "source": [
    "df_model.columns"
   ]
  },
  {
   "cell_type": "code",
   "execution_count": 19,
   "metadata": {},
   "outputs": [
    {
     "data": {
      "text/plain": [
       "Volume_stock                  0\n",
       "Adj_Close_stock               0\n",
       "apple_price                   0\n",
       "Pct_change_price              0\n",
       "Pct_change_price_scaled       0\n",
       "Unnamed: 0                    0\n",
       "Id                            0\n",
       "neg                           0\n",
       "neu                           0\n",
       "pos                           0\n",
       "compound                      0\n",
       "Compound_multiplied           0\n",
       "Compound_multiplied_scaled    0\n",
       "Predicted_change_price        0\n",
       "Buy/Sell                      0\n",
       "dtype: int64"
      ]
     },
     "execution_count": 19,
     "metadata": {},
     "output_type": "execute_result"
    }
   ],
   "source": [
    "df_model.isnull().sum()"
   ]
  },
  {
   "cell_type": "code",
   "execution_count": 20,
   "metadata": {},
   "outputs": [
    {
     "data": {
      "text/plain": [
       "Volume_stock                  float64\n",
       "Adj_Close_stock               float64\n",
       "apple_price                   float64\n",
       "Pct_change_price              float64\n",
       "Pct_change_price_scaled       float64\n",
       "Unnamed: 0                    float64\n",
       "Id                            float64\n",
       "neg                           float64\n",
       "neu                           float64\n",
       "pos                           float64\n",
       "compound                      float64\n",
       "Compound_multiplied           float64\n",
       "Compound_multiplied_scaled    float64\n",
       "Predicted_change_price        float64\n",
       "Buy/Sell                      float64\n",
       "dtype: object"
      ]
     },
     "execution_count": 20,
     "metadata": {},
     "output_type": "execute_result"
    }
   ],
   "source": [
    "df_model.dtypes"
   ]
  },
  {
   "cell_type": "code",
   "execution_count": 23,
   "metadata": {},
   "outputs": [
    {
     "data": {
      "image/png": "[encoded data removed]",
      "text/plain": [
       "<Figure size 432x288 with 1 Axes>"
      ]
     },
     "metadata": {
      "needs_background": "light"
     },
     "output_type": "display_data"
    }
   ],
   "source": [
    "df_model[['neg', 'neu', 'pos']][:10].plot(kind = 'bar');"
   ]
  },
  {
   "cell_type": "code",
   "execution_count": 36,
   "metadata": {},
   "outputs": [],
   "source": [
    "X= (df_model[['Compound_multiplied']])\n",
    "y = (df_model['Predicted_change_price'])"
   ]
  },
  {
   "cell_type": "code",
   "execution_count": 37,
   "metadata": {},
   "outputs": [
    {
     "data": {
      "text/plain": [
       "(1933, 1)"
      ]
     },
     "execution_count": 37,
     "metadata": {},
     "output_type": "execute_result"
    }
   ],
   "source": [
    "X.shape"
   ]
  },
  {
   "cell_type": "code",
   "execution_count": 38,
   "metadata": {},
   "outputs": [
    {
     "data": {
      "text/plain": [
       "(1933,)"
      ]
     },
     "execution_count": 38,
     "metadata": {},
     "output_type": "execute_result"
    }
   ],
   "source": [
    "y.shape"
   ]
  },
  {
   "cell_type": "code",
   "execution_count": 19,
   "metadata": {},
   "outputs": [],
   "source": [
    "#from sklearn.model_selection import train_test_split \n",
    "#X_train,X_test,y_train,y_test = train_test_split(X, y, random_state=42)"
   ]
  },
  {
   "cell_type": "code",
   "execution_count": 20,
   "metadata": {},
   "outputs": [],
   "source": [
    "#x_train, x_test, y_train, y_test = train_test_split(x, y, shuffle=False)"
   ]
  },
  {
   "cell_type": "markdown",
   "metadata": {},
   "source": [
    "### Train - Test split - not needed\n",
    "The x_train and y_train is taken from the original data from 03/2016-06/2016\n",
    "The x_test and y_test is the data from 28 days during March 2019\n",
    "\n",
    "Remove the last row for each cashtag in all_data dataframe (=training data), since its 'Predicted_change_stock' is Na"
   ]
  },
  {
   "cell_type": "code",
   "execution_count": 21,
   "metadata": {},
   "outputs": [],
   "source": [
    "# Remove the last row for each cashtag, since its 'Predicted_change_stock' is NaN\n",
    "#df_model = df_model[np.isfinite(df_model['Predicted_change_price'])]\n",
    "#df_model = df_model[np.isfinite(df_model['Buy/Sell'])]\n",
    "\n",
    "#x_train = np.array(df_model[['Compound_multiplied']]) #\n",
    "#y_train = np.array(df_model[['Buy/Sell']])\n",
    "\n",
    "#x_test = np.array(df_model[['Compound_multiplied']])\n",
    "#y_test = np.array(df_model[['Buy/Sell']])"
   ]
  },
  {
   "cell_type": "code",
   "execution_count": 25,
   "metadata": {},
   "outputs": [],
   "source": [
    "\n",
    "#from sklearn.model_selection import train_test_split, GridSearchCV\n",
    "#x = np.array(df_model['Compound_multiplied_scaled']) #\n",
    "#y = np.array(df_model['Buy/Sell'])\n",
    "\n",
    "# from sklearn.model_selection import train_test_split\n",
    "\n",
    "X_train, X_test, y_train, y_test = train_test_split(X, y, random_state = 42)"
   ]
  },
  {
   "cell_type": "markdown",
   "metadata": {},
   "source": [
    "### Support Vector Machines (SVM) with different kernels\n",
    "kernel = 'linear'\n",
    "To be noted! SVM normally works better with scaled data, i.e. features e.g. between [0,1]. This is because it tries to maximize the distance between the separating plane and the support vectors. If one feature (i.e. one dimension in this space) has very large values, it will dominate the other features when calculationg the distance. However, since this analysis only uses one feature, the \"Compound_multiplied\", scaling will not be needed."
   ]
  },
  {
   "cell_type": "code",
   "execution_count": 31,
   "metadata": {},
   "outputs": [
    {
     "ename": "ValueError",
     "evalue": "The number of classes has to be greater than one; got 1 class",
     "output_type": "error",
     "traceback": [
      "\u001b[0;31m---------------------------------------------------------------------------\u001b[0m",
      "\u001b[0;31mValueError\u001b[0m                                Traceback (most recent call last)",
      "\u001b[0;32m<ipython-input-31-59aaeb24f83e>\u001b[0m in \u001b[0;36m<module>\u001b[0;34m\u001b[0m\n\u001b[1;32m      1\u001b[0m \u001b[0msvm_linear\u001b[0m \u001b[0;34m=\u001b[0m \u001b[0mSVC\u001b[0m\u001b[0;34m(\u001b[0m \u001b[0mkernel\u001b[0m \u001b[0;34m=\u001b[0m \u001b[0;34m'linear'\u001b[0m\u001b[0;34m)\u001b[0m\u001b[0;34m\u001b[0m\u001b[0m\n\u001b[0;32m----> 2\u001b[0;31m \u001b[0msvm_linear\u001b[0m\u001b[0;34m.\u001b[0m\u001b[0mfit\u001b[0m\u001b[0;34m(\u001b[0m\u001b[0mX_train\u001b[0m\u001b[0;34m,\u001b[0m \u001b[0my_train\u001b[0m\u001b[0;34m.\u001b[0m\u001b[0mravel\u001b[0m\u001b[0;34m(\u001b[0m\u001b[0;34m)\u001b[0m\u001b[0;34m)\u001b[0m\u001b[0;34m\u001b[0m\u001b[0m\n\u001b[0m",
      "\u001b[0;32m~/anaconda3/lib/python3.6/site-packages/sklearn/svm/_base.py\u001b[0m in \u001b[0;36mfit\u001b[0;34m(self, X, y, sample_weight)\u001b[0m\n\u001b[1;32m    147\u001b[0m                          \u001b[0morder\u001b[0m\u001b[0;34m=\u001b[0m\u001b[0;34m'C'\u001b[0m\u001b[0;34m,\u001b[0m \u001b[0maccept_sparse\u001b[0m\u001b[0;34m=\u001b[0m\u001b[0;34m'csr'\u001b[0m\u001b[0;34m,\u001b[0m\u001b[0;34m\u001b[0m\u001b[0m\n\u001b[1;32m    148\u001b[0m                          accept_large_sparse=False)\n\u001b[0;32m--> 149\u001b[0;31m         \u001b[0my\u001b[0m \u001b[0;34m=\u001b[0m \u001b[0mself\u001b[0m\u001b[0;34m.\u001b[0m\u001b[0m_validate_targets\u001b[0m\u001b[0;34m(\u001b[0m\u001b[0my\u001b[0m\u001b[0;34m)\u001b[0m\u001b[0;34m\u001b[0m\u001b[0m\n\u001b[0m\u001b[1;32m    150\u001b[0m \u001b[0;34m\u001b[0m\u001b[0m\n\u001b[1;32m    151\u001b[0m         sample_weight = np.asarray([]\n",
      "\u001b[0;32m~/anaconda3/lib/python3.6/site-packages/sklearn/svm/_base.py\u001b[0m in \u001b[0;36m_validate_targets\u001b[0;34m(self, y)\u001b[0m\n\u001b[1;32m    529\u001b[0m             raise ValueError(\n\u001b[1;32m    530\u001b[0m                 \u001b[0;34m\"The number of classes has to be greater than one; got %d\"\u001b[0m\u001b[0;34m\u001b[0m\u001b[0m\n\u001b[0;32m--> 531\u001b[0;31m                 \" class\" % len(cls))\n\u001b[0m\u001b[1;32m    532\u001b[0m \u001b[0;34m\u001b[0m\u001b[0m\n\u001b[1;32m    533\u001b[0m         \u001b[0mself\u001b[0m\u001b[0;34m.\u001b[0m\u001b[0mclasses_\u001b[0m \u001b[0;34m=\u001b[0m \u001b[0mcls\u001b[0m\u001b[0;34m\u001b[0m\u001b[0m\n",
      "\u001b[0;31mValueError\u001b[0m: The number of classes has to be greater than one; got 1 class"
     ]
    }
   ],
   "source": [
    "svm_linear = SVC( kernel = 'linear')\n",
    "svm_linear.fit(X_train, y_train.ravel())"
   ]
  },
  {
   "cell_type": "markdown",
   "metadata": {},
   "source": [
    "#### Accuracy for 'linear' after cross validation"
   ]
  },
  {
   "cell_type": "markdown",
   "metadata": {},
   "source": [
    "###  Naive Bayes"
   ]
  },
  {
   "cell_type": "markdown",
   "metadata": {},
   "source": [
    "- Please note! A MinMaxScaler is needed to get the features in the range MultinomialNB requires."
   ]
  },
  {
   "cell_type": "code",
   "execution_count": 36,
   "metadata": {},
   "outputs": [],
   "source": [
    "scaler = MinMaxScaler() \n",
    "X_minmax = scaler.fit_transform(X_train)\n",
    "\n",
    "mnb = MultinomialNB()"
   ]
  },
  {
   "cell_type": "markdown",
   "metadata": {},
   "source": [
    "#### Accuracy after cross validation "
   ]
  },
  {
   "cell_type": "code",
   "execution_count": 37,
   "metadata": {},
   "outputs": [
    {
     "data": {
      "text/plain": [
       "1.0"
      ]
     },
     "execution_count": 37,
     "metadata": {},
     "output_type": "execute_result"
    }
   ],
   "source": [
    "mnb_cv = cross_val_score(mnb, X_minmax, y_train.ravel(), cv=10) \n",
    "mnb_cv.mean()"
   ]
  }
 ],
 "metadata": {
  "kernelspec": {
   "display_name": "Python 3",
   "language": "python",
   "name": "python3"
  },
  "language_info": {
   "codemirror_mode": {
    "name": "ipython",
    "version": 3
   },
   "file_extension": ".py",
   "mimetype": "text/x-python",
   "name": "python",
   "nbconvert_exporter": "python",
   "pygments_lexer": "ipython3",
   "version": "3.6.4"
  }
 },
 "nbformat": 4,
 "nbformat_minor": 4
}
